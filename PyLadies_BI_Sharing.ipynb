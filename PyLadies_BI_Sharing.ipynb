{
  "nbformat": 4,
  "nbformat_minor": 0,
  "metadata": {
    "colab": {
      "name": "PyLadies-BI-Sharing",
      "version": "0.3.2",
      "provenance": [],
      "collapsed_sections": [],
      "toc_visible": true,
      "include_colab_link": true
    },
    "kernelspec": {
      "name": "python3",
      "display_name": "Python 3"
    },
    "accelerator": "GPU"
  },
  "cells": [
    {
      "cell_type": "markdown",
      "metadata": {
        "id": "view-in-github",
        "colab_type": "text"
      },
      "source": [
        "<a href=\"https://colab.research.google.com/github/tsaiichi/dash-app-tutorial/blob/master/PyLadies_BI_Sharing.ipynb\" target=\"_parent\"><img src=\"https://colab.research.google.com/assets/colab-badge.svg\" alt=\"Open In Colab\"/></a>"
      ]
    },
    {
      "metadata": {
        "id": "IqO5K6w1fpTg",
        "colab_type": "text"
      },
      "cell_type": "markdown",
      "source": [
        "# How to run a Dash app in Google Colab\n",
        "\n",
        "- https://stackoverflow.com/a/53622684"
      ]
    },
    {
      "metadata": {
        "id": "vrH4xwMWow_0",
        "colab_type": "code",
        "colab": {}
      },
      "cell_type": "code",
      "source": [
        "## Requirements\n",
        "\n",
        "### Install ngrok\n",
        "!wget https://bin.equinox.io/c/4VmDzA7iaHb/ngrok-stable-linux-amd64.zip\n",
        "!unzip ngrok-stable-linux-amd64.zip"
      ],
      "execution_count": 0,
      "outputs": []
    },
    {
      "metadata": {
        "id": "PAa8rgz9Z42o",
        "colab_type": "code",
        "colab": {}
      },
      "cell_type": "code",
      "source": [
        "### Install Dash\n",
        "!pip install dash==0.36.0  # The core dash backend\n",
        "!pip install dash-html-components==0.13.5  # HTML components\n",
        "!pip install dash-core-components==0.43.0  # Supercharged components\n",
        "!pip install dash-table==3.1.11  # Interactive DataTable component (new!)\n",
        "!pip install dash-daq==0.1.0\n",
        "!pip install dash-renderer==0.18.0"
      ],
      "execution_count": 0,
      "outputs": []
    },
    {
      "metadata": {
        "id": "XCPAalL6gDWL",
        "colab_type": "text"
      },
      "cell_type": "markdown",
      "source": [
        "## 將 ngork 設定好，才能直接從瀏覽器連進去\n",
        "- 記好網址"
      ]
    },
    {
      "metadata": {
        "id": "rQN6dV-2XXMQ",
        "colab_type": "code",
        "colab": {}
      },
      "cell_type": "code",
      "source": [
        "### Run ngrok to tunnel Dash app port 8050 to the outside world. \n",
        "### This command runs in the background.\n",
        "get_ipython().system_raw('./ngrok http 8050 &')\n",
        "\n",
        "### Get the public URL where you can access the Dash app. Copy this URL.\n",
        "! curl -s http://localhost:4040/api/tunnels | python3 -c \\\n",
        "    \"import sys, json; print(json.load(sys.stdin)['tunnels'][0]['public_url'])\""
      ],
      "execution_count": 0,
      "outputs": []
    },
    {
      "metadata": {
        "id": "6IQ0S9e_EizJ",
        "colab_type": "text"
      },
      "cell_type": "markdown",
      "source": [
        "## 用範例 app 測試可以從 ngork 成功連到 dashboard\n",
        "- 將 code 寫入 dash_demo.py\n",
        "- 執行 python dash_demo.py"
      ]
    },
    {
      "metadata": {
        "id": "y4Qjg0S3WWW_",
        "colab_type": "code",
        "colab": {}
      },
      "cell_type": "code",
      "source": [
        "## Dash app (https://dash.plot.ly/getting-started)\n",
        "\n",
        "### Save file with Dash app on the Google Colab machine\n",
        "%%writefile dash_demo.py\n",
        "import dash\n",
        "import dash_core_components as dcc\n",
        "import dash_html_components as html\n",
        "\n",
        "external_stylesheets = ['https://codepen.io/chriddyp/pen/bWLwgP.css']\n",
        "\n",
        "app = dash.Dash(__name__, external_stylesheets=external_stylesheets)\n",
        "\n",
        "app.layout = html.Div(children=[\n",
        "    html.H1(children='Hello Dash'),\n",
        "\n",
        "    html.Div(children='''\n",
        "        Dash: A web application framework for Python.\n",
        "    '''),\n",
        "\n",
        "    dcc.Graph(\n",
        "        id='example-graph',\n",
        "        figure={\n",
        "            'data': [\n",
        "                {'x': [1, 2, 3], 'y': [4, 1, 2], 'type': 'bar', 'name': 'SF'},\n",
        "                {'x': [1, 2, 3], 'y': [2, 4, 5], 'type': 'bar', 'name': u'Montréal'},\n",
        "            ],\n",
        "            'layout': {\n",
        "                'title': 'Dash Data Visualization'\n",
        "            }\n",
        "        }\n",
        "    )\n",
        "])\n",
        "\n",
        "if __name__ == '__main__':\n",
        "    app.run_server(debug=True)"
      ],
      "execution_count": 0,
      "outputs": []
    },
    {
      "metadata": {
        "id": "Pny-7sVdWfuH",
        "colab_type": "code",
        "colab": {}
      },
      "cell_type": "code",
      "source": [
        "### Run Dash app\n",
        "!python dash_demo.py\n"
      ],
      "execution_count": 0,
      "outputs": []
    },
    {
      "metadata": {
        "id": "MJrAzB0IdIZb",
        "colab_type": "text"
      },
      "cell_type": "markdown",
      "source": [
        "# Read Data from Google Spreadsheets\n",
        "- https://colab.research.google.com/notebooks/io.ipynb#scrollTo=6d0xJz3VzLOo\n",
        "\n",
        "## Mount your gDrive in this notebook instance\n",
        "\n",
        "- 按照說明前往 oauth2 網址得到驗證碼\n",
        "- 確認檔案存在"
      ]
    },
    {
      "metadata": {
        "id": "a3QU-w7Zeop0",
        "colab_type": "code",
        "colab": {}
      },
      "cell_type": "code",
      "source": [
        "from google.colab import drive\n",
        "drive.mount('/content/drive')"
      ],
      "execution_count": 0,
      "outputs": []
    },
    {
      "metadata": {
        "id": "UGmmD1NEkgwu",
        "colab_type": "text"
      },
      "cell_type": "markdown",
      "source": [
        "### Check your file, get the file name\n",
        "- 副檔名為 .gsheet"
      ]
    },
    {
      "metadata": {
        "id": "KU4_DQagfTVv",
        "colab_type": "code",
        "colab": {}
      },
      "cell_type": "code",
      "source": [
        "!ls \"/content/drive/My Drive/pyladies/2019-BI/\""
      ],
      "execution_count": 0,
      "outputs": []
    },
    {
      "metadata": {
        "id": "b9pIM9Mcknkz",
        "colab_type": "text"
      },
      "cell_type": "markdown",
      "source": [
        "## Read data using Google Spreadsheet client\n",
        "- 安裝 gspread 套件\n",
        "- 前往說明網址取得驗證碼\n",
        "- 讀取 spreadsheet 資料轉成 pandas 的 dataframe (其實這段不需要先 mount drive)\n",
        "- output 出整理後的資料取名為 dash_data.csv\n",
        "- 可以在這階段試著用 pandas 語法操作 dataframe"
      ]
    },
    {
      "metadata": {
        "id": "zXSOfshRhqXc",
        "colab_type": "code",
        "colab": {}
      },
      "cell_type": "code",
      "source": [
        "!pip install --upgrade -q gspread"
      ],
      "execution_count": 0,
      "outputs": []
    },
    {
      "metadata": {
        "id": "00DBlHWVhwcA",
        "colab_type": "code",
        "colab": {}
      },
      "cell_type": "code",
      "source": [
        "from google.colab import auth\n",
        "auth.authenticate_user()\n",
        "\n",
        "import gspread\n",
        "from oauth2client.client import GoogleCredentials\n",
        "\n",
        "gc = gspread.authorize(GoogleCredentials.get_application_default())"
      ],
      "execution_count": 0,
      "outputs": []
    },
    {
      "metadata": {
        "id": "U_dd7EO5gfxb",
        "colab_type": "code",
        "colab": {}
      },
      "cell_type": "code",
      "source": [
        "# Open our sheet and read some data.\n",
        "\n",
        "path = \"trends-geo\"  # only file name, no directory, no .gsheet\n",
        "sh = gc.open(path)\n",
        "worksheet = sh.sheet1\n",
        "\n",
        "# get_all_values gives a list of rows.\n",
        "rows = worksheet.get_all_values()\n",
        "print(rows)\n",
        "\n",
        "# Convert to a DataFrame and render.\n",
        "import pandas as pd\n",
        "df = pd.DataFrame.from_records(rows[1:], columns=rows[0])\n",
        "df.head(10)"
      ],
      "execution_count": 0,
      "outputs": []
    },
    {
      "metadata": {
        "id": "UisWavXHHMwF",
        "colab_type": "code",
        "colab": {}
      },
      "cell_type": "code",
      "source": [
        "df['Country'].tolist()[:10]"
      ],
      "execution_count": 0,
      "outputs": []
    },
    {
      "metadata": {
        "id": "YW90bIqT5Zx1",
        "colab_type": "text"
      },
      "cell_type": "markdown",
      "source": [
        "### 存檔"
      ]
    },
    {
      "metadata": {
        "id": "WKff6q9hJWm-",
        "colab_type": "code",
        "colab": {}
      },
      "cell_type": "code",
      "source": [
        "df.to_csv('dash_data.csv', index=False)\n",
        "!ls -l 'dash_data.csv'"
      ],
      "execution_count": 0,
      "outputs": []
    },
    {
      "metadata": {
        "id": "BZ7WcZtd5e_j",
        "colab_type": "text"
      },
      "cell_type": "markdown",
      "source": [
        "### 試著讀回來看看資料有沒有問題"
      ]
    },
    {
      "metadata": {
        "id": "tkF5GUYhKRE_",
        "colab_type": "code",
        "colab": {}
      },
      "cell_type": "code",
      "source": [
        "df2 = pd.read_csv('dash_data.csv', index_col='Country').dropna()\n",
        "c = df2.columns.tolist()\n",
        "c\n",
        "df2.loc['Taiwan',:].values.tolist()\n",
        "#df2.index.tolist()[:10]"
      ],
      "execution_count": 0,
      "outputs": []
    },
    {
      "metadata": {
        "id": "r6EarOS0jhtE",
        "colab_type": "text"
      },
      "cell_type": "markdown",
      "source": [
        "## Write some widgets\n",
        "\n",
        "- 將 code 寫入 my_dash.py\n",
        "- 用 drop down menu 來做 filter\n",
        "\n"
      ]
    },
    {
      "metadata": {
        "id": "alwPWNpZg7iG",
        "colab_type": "code",
        "colab": {}
      },
      "cell_type": "code",
      "source": [
        "%%writefile my_dash.py\n",
        "import dash\n",
        "import dash_core_components as dcc\n",
        "import dash_html_components as html\n",
        "from dash.dependencies import Input, Output\n",
        "import pandas as pd\n",
        "\n",
        "external_stylesheets = ['https://codepen.io/chriddyp/pen/bWLwgP.css']\n",
        "\n",
        "app = dash.Dash(__name__, external_stylesheets=external_stylesheets)\n",
        "\n",
        "# data from csv\n",
        "df = pd.read_csv('dash_data.csv', index_col='Country').dropna()\n",
        "cols = df.columns.tolist()\n",
        "rendered = []\n",
        "\n",
        "# layout: html.Div(children=[放入, 想要的, html, 或圖表])\n",
        "app.layout = html.Div(children=[\n",
        "    html.H1(children='My Dash App on PyLadies BI Tutorial'),\n",
        "    \n",
        "    html.Div(children='''\n",
        "        Dash: A web application framework for Python.\n",
        "    '''),\n",
        "\n",
        "  \n",
        "    dcc.Dropdown(\n",
        "        id='country-menu',\n",
        "        multi=True,\n",
        "        value=\"Taiwan\",  # 預設值\n",
        "        options=[{'label': c, 'value': c} for c in df.index.tolist()]\n",
        "    ),\n",
        "    \n",
        "    html.Div(id='country-pie')\n",
        "    \n",
        "])\n",
        "\n",
        "# interaction callback\n",
        "@app.callback(\n",
        "    Output(component_id='country-pie', component_property='children'),\n",
        "    [Input(component_id='country-menu', component_property='value')]\n",
        ")\n",
        "def update_pie_div(input_value):\n",
        "    print(input_value)\n",
        "    def gen_pie_div(name):\n",
        "        return html.Div(\n",
        "                  className=\"six columns\",\n",
        "                  #style={\"height\" : \"80vh\", \"width\" : \"25%\"},\n",
        "                  children=[\n",
        "                    dcc.Graph(\n",
        "                      figure={\n",
        "                          'data':[{\n",
        "                              'labels': cols,\n",
        "                              'values': [int(v.strip('%'))/100 for v in df.loc[name,:].values.tolist()],\n",
        "                              'type':'pie'\n",
        "                          }],\n",
        "                          'layout':{\n",
        "                              'title': '{}'.format(name)\n",
        "                          }\n",
        "                      }\n",
        "                    )\n",
        "                  ]\n",
        "                )\n",
        "    \n",
        "    pies = []\n",
        "    if isinstance(input_value, list):\n",
        "        for value in input_value:\n",
        "            pies.append(gen_pie_div(value))\n",
        "    if isinstance(input_value, str):\n",
        "        pies.append(gen_pie_div(input_value))\n",
        "    return pies\n",
        "            \n",
        "\n",
        "\n",
        "if __name__ == '__main__':\n",
        "    app.run_server(debug=True)"
      ],
      "execution_count": 0,
      "outputs": []
    },
    {
      "metadata": {
        "id": "Jdx0RaOhrdA5",
        "colab_type": "code",
        "colab": {}
      },
      "cell_type": "code",
      "source": [
        "!python my_dash.py"
      ],
      "execution_count": 0,
      "outputs": []
    },
    {
      "metadata": {
        "id": "szJNi24fr4al",
        "colab_type": "code",
        "colab": {}
      },
      "cell_type": "code",
      "source": [
        "### Run ngrok to tunnel Dash app port 8050 to the outside world. \n",
        "### This command runs in the background.\n",
        "get_ipython().system_raw('./ngrok http 8050 &')\n",
        "\n",
        "### Get the public URL where you can access the Dash app. Copy this URL.\n",
        "! curl -s http://localhost:4040/api/tunnels | python3 -c \\\n",
        "    \"import sys, json; print(json.load(sys.stdin)['tunnels'][0]['public_url'])\""
      ],
      "execution_count": 0,
      "outputs": []
    },
    {
      "metadata": {
        "id": "NdCsoLLnv3lO",
        "colab_type": "code",
        "colab": {}
      },
      "cell_type": "code",
      "source": [
        ""
      ],
      "execution_count": 0,
      "outputs": []
    }
  ]
}